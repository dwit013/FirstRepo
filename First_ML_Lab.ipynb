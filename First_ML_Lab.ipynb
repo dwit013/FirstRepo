{
  "nbformat": 4,
  "nbformat_minor": 0,
  "metadata": {
    "colab": {
      "name": "First ML Lab.ipynb",
      "version": "0.3.2",
      "provenance": [],
      "include_colab_link": true
    },
    "kernelspec": {
      "name": "python3",
      "display_name": "Python 3"
    },
    "accelerator": "GPU"
  },
  "cells": [
    {
      "cell_type": "markdown",
      "metadata": {
        "id": "view-in-github",
        "colab_type": "text"
      },
      "source": [
        "<a href=\"https://colab.research.google.com/github/sanjaysanjel/FirstRepo/blob/master/First_ML_Lab.ipynb\" target=\"_parent\"><img src=\"https://colab.research.google.com/assets/colab-badge.svg\" alt=\"Open In Colab\"/></a>"
      ]
    },
    {
      "cell_type": "code",
      "metadata": {
        "id": "wgqUFHW0IJHC",
        "colab_type": "code",
        "colab": {}
      },
      "source": [
        "import numpy as np\n",
        "from sklearn.datasets import load_iris\n",
        "from keras.models import Sequential\n",
        "from keras.layers import Dense"
      ],
      "execution_count": 0,
      "outputs": []
    },
    {
      "cell_type": "code",
      "metadata": {
        "id": "URasmjdzd3fm",
        "colab_type": "code",
        "colab": {}
      },
      "source": [
        "from keras.utils.np_utils import to_categorical"
      ],
      "execution_count": 0,
      "outputs": []
    },
    {
      "cell_type": "code",
      "metadata": {
        "id": "ba7WVh8Hd6yx",
        "colab_type": "code",
        "colab": {}
      },
      "source": [
        "y_categorical = to_categorical(Y)"
      ],
      "execution_count": 0,
      "outputs": []
    },
    {
      "cell_type": "code",
      "metadata": {
        "id": "V3uzSCdLIaPM",
        "colab_type": "code",
        "colab": {}
      },
      "source": [
        "iris_data = load_iris()"
      ],
      "execution_count": 0,
      "outputs": []
    },
    {
      "cell_type": "code",
      "metadata": {
        "id": "aM9GMXbNXFAh",
        "colab_type": "code",
        "colab": {}
      },
      "source": [
        "class_names = iris_data.target_names"
      ],
      "execution_count": 0,
      "outputs": []
    },
    {
      "cell_type": "code",
      "metadata": {
        "id": "2ssMSgXeXJSC",
        "colab_type": "code",
        "colab": {}
      },
      "source": [
        "X = iris_data.data"
      ],
      "execution_count": 0,
      "outputs": []
    },
    {
      "cell_type": "code",
      "metadata": {
        "id": "RgfiONgWYHcW",
        "colab_type": "code",
        "colab": {}
      },
      "source": [
        "Y = iris_data.target"
      ],
      "execution_count": 0,
      "outputs": []
    },
    {
      "cell_type": "code",
      "metadata": {
        "id": "yARzM5-xYJ8S",
        "colab_type": "code",
        "colab": {
          "base_uri": "https://localhost:8080/",
          "height": 90
        },
        "outputId": "cb41ac7a-3595-4e36-a478-4effada00d6f"
      },
      "source": [
        "iris_data.feature_names"
      ],
      "execution_count": 15,
      "outputs": [
        {
          "output_type": "execute_result",
          "data": {
            "text/plain": [
              "['sepal length (cm)',\n",
              " 'sepal width (cm)',\n",
              " 'petal length (cm)',\n",
              " 'petal width (cm)']"
            ]
          },
          "metadata": {
            "tags": []
          },
          "execution_count": 15
        }
      ]
    },
    {
      "cell_type": "code",
      "metadata": {
        "id": "D59DbHp4YQ-f",
        "colab_type": "code",
        "colab": {
          "base_uri": "https://localhost:8080/",
          "height": 551
        },
        "outputId": "2bd3114c-c524-4cef-f576-c2da89627c2b"
      },
      "source": [
        "model = Sequential()\n",
        "model.add(Dense(units=10,input_dim=4,activation=\"relu\"))\n",
        "model.add(Dense(units=10,activation=\"relu\"))\n",
        "model.add(Dense(units=10,activation=\"relu\"))\n",
        "model.add(Dense(units=10,activation=\"relu\"))\n",
        "model.add(Dense(units=3,activation=\"softmax\"))\n",
        "model.compile(loss=\"categorical_crossentropy\",\n",
        "              optimizer=\"sgd\",\n",
        "             metrics =[\"accuracy\"])\n",
        "model.summary()"
      ],
      "execution_count": 16,
      "outputs": [
        {
          "output_type": "stream",
          "text": [
            "WARNING: Logging before flag parsing goes to stderr.\n",
            "W0803 07:46:36.491822 139791450568576 deprecation_wrapper.py:119] From /usr/local/lib/python3.6/dist-packages/keras/backend/tensorflow_backend.py:74: The name tf.get_default_graph is deprecated. Please use tf.compat.v1.get_default_graph instead.\n",
            "\n",
            "W0803 07:46:36.538478 139791450568576 deprecation_wrapper.py:119] From /usr/local/lib/python3.6/dist-packages/keras/backend/tensorflow_backend.py:517: The name tf.placeholder is deprecated. Please use tf.compat.v1.placeholder instead.\n",
            "\n",
            "W0803 07:46:36.547256 139791450568576 deprecation_wrapper.py:119] From /usr/local/lib/python3.6/dist-packages/keras/backend/tensorflow_backend.py:4138: The name tf.random_uniform is deprecated. Please use tf.random.uniform instead.\n",
            "\n",
            "W0803 07:46:36.605564 139791450568576 deprecation_wrapper.py:119] From /usr/local/lib/python3.6/dist-packages/keras/optimizers.py:790: The name tf.train.Optimizer is deprecated. Please use tf.compat.v1.train.Optimizer instead.\n",
            "\n",
            "W0803 07:46:36.629605 139791450568576 deprecation_wrapper.py:119] From /usr/local/lib/python3.6/dist-packages/keras/backend/tensorflow_backend.py:3295: The name tf.log is deprecated. Please use tf.math.log instead.\n",
            "\n"
          ],
          "name": "stderr"
        },
        {
          "output_type": "stream",
          "text": [
            "_________________________________________________________________\n",
            "Layer (type)                 Output Shape              Param #   \n",
            "=================================================================\n",
            "dense_1 (Dense)              (None, 10)                50        \n",
            "_________________________________________________________________\n",
            "dense_2 (Dense)              (None, 10)                110       \n",
            "_________________________________________________________________\n",
            "dense_3 (Dense)              (None, 10)                110       \n",
            "_________________________________________________________________\n",
            "dense_4 (Dense)              (None, 10)                110       \n",
            "_________________________________________________________________\n",
            "dense_5 (Dense)              (None, 3)                 33        \n",
            "=================================================================\n",
            "Total params: 413\n",
            "Trainable params: 413\n",
            "Non-trainable params: 0\n",
            "_________________________________________________________________\n"
          ],
          "name": "stdout"
        }
      ]
    },
    {
      "cell_type": "code",
      "metadata": {
        "id": "05_DJlPEcc9f",
        "colab_type": "code",
        "colab": {
          "base_uri": "https://localhost:8080/",
          "height": 1000
        },
        "outputId": "041a196f-4801-4194-8017-7b94846d3212"
      },
      "source": [
        "model.fit(X,y_categorical,validation_split=0.2, epochs=100)"
      ],
      "execution_count": 21,
      "outputs": [
        {
          "output_type": "stream",
          "text": [
            "W0803 07:54:06.976071 139791450568576 deprecation.py:323] From /usr/local/lib/python3.6/dist-packages/tensorflow/python/ops/math_grad.py:1250: add_dispatch_support.<locals>.wrapper (from tensorflow.python.ops.array_ops) is deprecated and will be removed in a future version.\n",
            "Instructions for updating:\n",
            "Use tf.where in 2.0, which has the same broadcast rule as np.where\n",
            "W0803 07:54:07.034979 139791450568576 deprecation_wrapper.py:119] From /usr/local/lib/python3.6/dist-packages/keras/backend/tensorflow_backend.py:986: The name tf.assign_add is deprecated. Please use tf.compat.v1.assign_add instead.\n",
            "\n"
          ],
          "name": "stderr"
        },
        {
          "output_type": "stream",
          "text": [
            "Train on 120 samples, validate on 30 samples\n",
            "Epoch 1/100\n",
            "120/120 [==============================] - 4s 32ms/step - loss: 1.0562 - acc: 0.5667 - val_loss: 2.5892 - val_acc: 0.0000e+00\n",
            "Epoch 2/100\n",
            "120/120 [==============================] - 0s 141us/step - loss: 0.9468 - acc: 0.8333 - val_loss: 2.3398 - val_acc: 0.0000e+00\n",
            "Epoch 3/100\n",
            "120/120 [==============================] - 0s 146us/step - loss: 0.9004 - acc: 0.8333 - val_loss: 2.2256 - val_acc: 0.0000e+00\n",
            "Epoch 4/100\n",
            "120/120 [==============================] - 0s 145us/step - loss: 0.8619 - acc: 0.8333 - val_loss: 2.1138 - val_acc: 0.0000e+00\n",
            "Epoch 5/100\n",
            "120/120 [==============================] - 0s 145us/step - loss: 0.8244 - acc: 0.8333 - val_loss: 2.0223 - val_acc: 0.0000e+00\n",
            "Epoch 6/100\n",
            "120/120 [==============================] - 0s 141us/step - loss: 0.7886 - acc: 0.8333 - val_loss: 1.9676 - val_acc: 0.0000e+00\n",
            "Epoch 7/100\n",
            "120/120 [==============================] - 0s 150us/step - loss: 0.7509 - acc: 0.8333 - val_loss: 1.8952 - val_acc: 0.0000e+00\n",
            "Epoch 8/100\n",
            "120/120 [==============================] - 0s 142us/step - loss: 0.7217 - acc: 0.8333 - val_loss: 1.9394 - val_acc: 0.0000e+00\n",
            "Epoch 9/100\n",
            "120/120 [==============================] - 0s 147us/step - loss: 0.6867 - acc: 0.8333 - val_loss: 2.0769 - val_acc: 0.0000e+00\n",
            "Epoch 10/100\n",
            "120/120 [==============================] - 0s 156us/step - loss: 0.6679 - acc: 0.8333 - val_loss: 1.9287 - val_acc: 0.0000e+00\n",
            "Epoch 11/100\n",
            "120/120 [==============================] - 0s 145us/step - loss: 0.6372 - acc: 0.8333 - val_loss: 1.9038 - val_acc: 0.0000e+00\n",
            "Epoch 12/100\n",
            "120/120 [==============================] - 0s 141us/step - loss: 0.6169 - acc: 0.8333 - val_loss: 1.8914 - val_acc: 0.0000e+00\n",
            "Epoch 13/100\n",
            "120/120 [==============================] - 0s 143us/step - loss: 0.5988 - acc: 0.8333 - val_loss: 1.6976 - val_acc: 0.0000e+00\n",
            "Epoch 14/100\n",
            "120/120 [==============================] - 0s 144us/step - loss: 0.5857 - acc: 0.8333 - val_loss: 1.8244 - val_acc: 0.0000e+00\n",
            "Epoch 15/100\n",
            "120/120 [==============================] - 0s 143us/step - loss: 0.5730 - acc: 0.8333 - val_loss: 1.7107 - val_acc: 0.0000e+00\n",
            "Epoch 16/100\n",
            "120/120 [==============================] - 0s 149us/step - loss: 0.5564 - acc: 0.8333 - val_loss: 1.5818 - val_acc: 0.0000e+00\n",
            "Epoch 17/100\n",
            "120/120 [==============================] - 0s 149us/step - loss: 0.5446 - acc: 0.8333 - val_loss: 1.8667 - val_acc: 0.0000e+00\n",
            "Epoch 18/100\n",
            "120/120 [==============================] - 0s 150us/step - loss: 0.5364 - acc: 0.8333 - val_loss: 1.8568 - val_acc: 0.0000e+00\n",
            "Epoch 19/100\n",
            "120/120 [==============================] - 0s 161us/step - loss: 0.5295 - acc: 0.8333 - val_loss: 1.5812 - val_acc: 0.0000e+00\n",
            "Epoch 20/100\n",
            "120/120 [==============================] - 0s 143us/step - loss: 0.5273 - acc: 0.8333 - val_loss: 1.7599 - val_acc: 0.0000e+00\n",
            "Epoch 21/100\n",
            "120/120 [==============================] - 0s 147us/step - loss: 0.5009 - acc: 0.8333 - val_loss: 2.0643 - val_acc: 0.0000e+00\n",
            "Epoch 22/100\n",
            "120/120 [==============================] - 0s 160us/step - loss: 0.4975 - acc: 0.8333 - val_loss: 1.7004 - val_acc: 0.0000e+00\n",
            "Epoch 23/100\n",
            "120/120 [==============================] - 0s 145us/step - loss: 0.4924 - acc: 0.8333 - val_loss: 1.7253 - val_acc: 0.0000e+00\n",
            "Epoch 24/100\n",
            "120/120 [==============================] - 0s 146us/step - loss: 0.4771 - acc: 0.8333 - val_loss: 1.7194 - val_acc: 0.0000e+00\n",
            "Epoch 25/100\n",
            "120/120 [==============================] - 0s 138us/step - loss: 0.4699 - acc: 0.8333 - val_loss: 1.7594 - val_acc: 0.0000e+00\n",
            "Epoch 26/100\n",
            "120/120 [==============================] - 0s 201us/step - loss: 0.4644 - acc: 0.8333 - val_loss: 1.7358 - val_acc: 0.0000e+00\n",
            "Epoch 27/100\n",
            "120/120 [==============================] - 0s 176us/step - loss: 0.4511 - acc: 0.8333 - val_loss: 1.7997 - val_acc: 0.0000e+00\n",
            "Epoch 28/100\n",
            "120/120 [==============================] - 0s 187us/step - loss: 0.4511 - acc: 0.8333 - val_loss: 1.6178 - val_acc: 0.0000e+00\n",
            "Epoch 29/100\n",
            "120/120 [==============================] - 0s 133us/step - loss: 0.4408 - acc: 0.8333 - val_loss: 1.6245 - val_acc: 0.0000e+00\n",
            "Epoch 30/100\n",
            "120/120 [==============================] - 0s 165us/step - loss: 0.4313 - acc: 0.8333 - val_loss: 1.6683 - val_acc: 0.0000e+00\n",
            "Epoch 31/100\n",
            "120/120 [==============================] - 0s 140us/step - loss: 0.4252 - acc: 0.8333 - val_loss: 1.6437 - val_acc: 0.0000e+00\n",
            "Epoch 32/100\n",
            "120/120 [==============================] - 0s 158us/step - loss: 0.4263 - acc: 0.8333 - val_loss: 1.6111 - val_acc: 0.0000e+00\n",
            "Epoch 33/100\n",
            "120/120 [==============================] - 0s 150us/step - loss: 0.4191 - acc: 0.8333 - val_loss: 1.8870 - val_acc: 0.0000e+00\n",
            "Epoch 34/100\n",
            "120/120 [==============================] - 0s 147us/step - loss: 0.4129 - acc: 0.8333 - val_loss: 1.7474 - val_acc: 0.0000e+00\n",
            "Epoch 35/100\n",
            "120/120 [==============================] - 0s 138us/step - loss: 0.4123 - acc: 0.8333 - val_loss: 1.5495 - val_acc: 0.0000e+00\n",
            "Epoch 36/100\n",
            "120/120 [==============================] - 0s 137us/step - loss: 0.3940 - acc: 0.8333 - val_loss: 1.6864 - val_acc: 0.0000e+00\n",
            "Epoch 37/100\n",
            "120/120 [==============================] - 0s 169us/step - loss: 0.3971 - acc: 0.8333 - val_loss: 1.5146 - val_acc: 0.0000e+00\n",
            "Epoch 38/100\n",
            "120/120 [==============================] - 0s 165us/step - loss: 0.3825 - acc: 0.8333 - val_loss: 1.5278 - val_acc: 0.0000e+00\n",
            "Epoch 39/100\n",
            "120/120 [==============================] - 0s 149us/step - loss: 0.3817 - acc: 0.8333 - val_loss: 1.3943 - val_acc: 0.0000e+00\n",
            "Epoch 40/100\n",
            "120/120 [==============================] - 0s 158us/step - loss: 0.3789 - acc: 0.8333 - val_loss: 1.5596 - val_acc: 0.0000e+00\n",
            "Epoch 41/100\n",
            "120/120 [==============================] - 0s 167us/step - loss: 0.3698 - acc: 0.8333 - val_loss: 1.5222 - val_acc: 0.0000e+00\n",
            "Epoch 42/100\n",
            "120/120 [==============================] - 0s 223us/step - loss: 0.3677 - acc: 0.8333 - val_loss: 1.3751 - val_acc: 0.0000e+00\n",
            "Epoch 43/100\n",
            "120/120 [==============================] - 0s 154us/step - loss: 0.3578 - acc: 0.8333 - val_loss: 1.3220 - val_acc: 0.0000e+00\n",
            "Epoch 44/100\n",
            "120/120 [==============================] - 0s 153us/step - loss: 0.3695 - acc: 0.8333 - val_loss: 1.0949 - val_acc: 0.0000e+00\n",
            "Epoch 45/100\n",
            "120/120 [==============================] - 0s 153us/step - loss: 0.3678 - acc: 0.8333 - val_loss: 1.7269 - val_acc: 0.0000e+00\n",
            "Epoch 46/100\n",
            "120/120 [==============================] - 0s 148us/step - loss: 0.3429 - acc: 0.8333 - val_loss: 1.4521 - val_acc: 0.0000e+00\n",
            "Epoch 47/100\n",
            "120/120 [==============================] - 0s 140us/step - loss: 0.3361 - acc: 0.8333 - val_loss: 1.4290 - val_acc: 0.0000e+00\n",
            "Epoch 48/100\n",
            "120/120 [==============================] - 0s 164us/step - loss: 0.3331 - acc: 0.8333 - val_loss: 1.3265 - val_acc: 0.0000e+00\n",
            "Epoch 49/100\n",
            "120/120 [==============================] - 0s 144us/step - loss: 0.3276 - acc: 0.8333 - val_loss: 1.2845 - val_acc: 0.0000e+00\n",
            "Epoch 50/100\n",
            "120/120 [==============================] - 0s 155us/step - loss: 0.3177 - acc: 0.8333 - val_loss: 1.3410 - val_acc: 0.0000e+00\n",
            "Epoch 51/100\n",
            "120/120 [==============================] - 0s 159us/step - loss: 0.3217 - acc: 0.8333 - val_loss: 1.1476 - val_acc: 0.0000e+00\n",
            "Epoch 52/100\n",
            "120/120 [==============================] - 0s 139us/step - loss: 0.3094 - acc: 0.8333 - val_loss: 1.1413 - val_acc: 0.0000e+00\n",
            "Epoch 53/100\n",
            "120/120 [==============================] - 0s 129us/step - loss: 0.3092 - acc: 0.8333 - val_loss: 1.4845 - val_acc: 0.0000e+00\n",
            "Epoch 54/100\n",
            "120/120 [==============================] - 0s 143us/step - loss: 0.2958 - acc: 0.8333 - val_loss: 1.1733 - val_acc: 0.0000e+00\n",
            "Epoch 55/100\n",
            "120/120 [==============================] - 0s 141us/step - loss: 0.2913 - acc: 0.8333 - val_loss: 1.0499 - val_acc: 0.0000e+00\n",
            "Epoch 56/100\n",
            "120/120 [==============================] - 0s 143us/step - loss: 0.3057 - acc: 0.8333 - val_loss: 1.8316 - val_acc: 0.0000e+00\n",
            "Epoch 57/100\n",
            "120/120 [==============================] - 0s 131us/step - loss: 0.3044 - acc: 0.8417 - val_loss: 1.6982 - val_acc: 0.0000e+00\n",
            "Epoch 58/100\n",
            "120/120 [==============================] - 0s 141us/step - loss: 0.2904 - acc: 0.8333 - val_loss: 1.1220 - val_acc: 0.0000e+00\n",
            "Epoch 59/100\n",
            "120/120 [==============================] - 0s 157us/step - loss: 0.2696 - acc: 0.8333 - val_loss: 0.8147 - val_acc: 0.5333\n",
            "Epoch 60/100\n",
            "120/120 [==============================] - 0s 139us/step - loss: 0.2761 - acc: 0.9083 - val_loss: 0.8253 - val_acc: 0.4667\n",
            "Epoch 61/100\n",
            "120/120 [==============================] - 0s 171us/step - loss: 0.2697 - acc: 0.9000 - val_loss: 0.7829 - val_acc: 0.6000\n",
            "Epoch 62/100\n",
            "120/120 [==============================] - 0s 182us/step - loss: 0.2687 - acc: 0.9250 - val_loss: 1.2409 - val_acc: 0.0667\n",
            "Epoch 63/100\n",
            "120/120 [==============================] - 0s 165us/step - loss: 0.2485 - acc: 0.9083 - val_loss: 1.4504 - val_acc: 0.0333\n",
            "Epoch 64/100\n",
            "120/120 [==============================] - 0s 163us/step - loss: 0.2533 - acc: 0.9083 - val_loss: 1.8284 - val_acc: 0.0000e+00\n",
            "Epoch 65/100\n",
            "120/120 [==============================] - 0s 159us/step - loss: 0.2429 - acc: 0.8917 - val_loss: 0.8043 - val_acc: 0.4667\n",
            "Epoch 66/100\n",
            "120/120 [==============================] - 0s 166us/step - loss: 0.2349 - acc: 0.9583 - val_loss: 0.8507 - val_acc: 0.3333\n",
            "Epoch 67/100\n",
            "120/120 [==============================] - 0s 145us/step - loss: 0.2433 - acc: 0.9250 - val_loss: 1.1722 - val_acc: 0.1667\n",
            "Epoch 68/100\n",
            "120/120 [==============================] - 0s 156us/step - loss: 0.2557 - acc: 0.8917 - val_loss: 0.9392 - val_acc: 0.2333\n",
            "Epoch 69/100\n",
            "120/120 [==============================] - 0s 175us/step - loss: 0.2225 - acc: 0.9417 - val_loss: 0.8497 - val_acc: 0.4000\n",
            "Epoch 70/100\n",
            "120/120 [==============================] - 0s 158us/step - loss: 0.2310 - acc: 0.9333 - val_loss: 0.4264 - val_acc: 1.0000\n",
            "Epoch 71/100\n",
            "120/120 [==============================] - 0s 149us/step - loss: 0.2481 - acc: 0.9250 - val_loss: 1.1374 - val_acc: 0.1667\n",
            "Epoch 72/100\n",
            "120/120 [==============================] - 0s 187us/step - loss: 0.2094 - acc: 0.9583 - val_loss: 0.9020 - val_acc: 0.2667\n",
            "Epoch 73/100\n",
            "120/120 [==============================] - 0s 149us/step - loss: 0.2115 - acc: 0.9417 - val_loss: 0.7402 - val_acc: 0.6000\n",
            "Epoch 74/100\n",
            "120/120 [==============================] - 0s 133us/step - loss: 0.2022 - acc: 0.9500 - val_loss: 0.5451 - val_acc: 0.8667\n",
            "Epoch 75/100\n",
            "120/120 [==============================] - 0s 190us/step - loss: 0.2562 - acc: 0.9167 - val_loss: 1.6194 - val_acc: 0.0667\n",
            "Epoch 76/100\n",
            "120/120 [==============================] - 0s 167us/step - loss: 0.2296 - acc: 0.9167 - val_loss: 0.5668 - val_acc: 0.8333\n",
            "Epoch 77/100\n",
            "120/120 [==============================] - 0s 194us/step - loss: 0.2255 - acc: 0.9333 - val_loss: 0.6564 - val_acc: 0.6333\n",
            "Epoch 78/100\n",
            "120/120 [==============================] - 0s 177us/step - loss: 0.1984 - acc: 0.9250 - val_loss: 0.6355 - val_acc: 0.7000\n",
            "Epoch 79/100\n",
            "120/120 [==============================] - 0s 140us/step - loss: 0.1823 - acc: 0.9583 - val_loss: 0.8356 - val_acc: 0.4333\n",
            "Epoch 80/100\n",
            "120/120 [==============================] - 0s 135us/step - loss: 0.1813 - acc: 0.9583 - val_loss: 0.8795 - val_acc: 0.3667\n",
            "Epoch 81/100\n",
            "120/120 [==============================] - 0s 164us/step - loss: 0.1832 - acc: 0.9417 - val_loss: 1.2247 - val_acc: 0.1667\n",
            "Epoch 82/100\n",
            "120/120 [==============================] - 0s 178us/step - loss: 0.1883 - acc: 0.9250 - val_loss: 0.3892 - val_acc: 0.9667\n",
            "Epoch 83/100\n",
            "120/120 [==============================] - 0s 148us/step - loss: 0.1922 - acc: 0.9583 - val_loss: 0.9326 - val_acc: 0.2667\n",
            "Epoch 84/100\n",
            "120/120 [==============================] - 0s 149us/step - loss: 0.1633 - acc: 0.9583 - val_loss: 0.7757 - val_acc: 0.5333\n",
            "Epoch 85/100\n",
            "120/120 [==============================] - 0s 164us/step - loss: 0.2048 - acc: 0.9417 - val_loss: 2.4961 - val_acc: 0.0000e+00\n",
            "Epoch 86/100\n",
            "120/120 [==============================] - 0s 150us/step - loss: 0.2804 - acc: 0.9000 - val_loss: 1.0132 - val_acc: 0.2667\n",
            "Epoch 87/100\n",
            "120/120 [==============================] - 0s 154us/step - loss: 0.1574 - acc: 0.9667 - val_loss: 0.6281 - val_acc: 0.6333\n",
            "Epoch 88/100\n",
            "120/120 [==============================] - 0s 153us/step - loss: 0.1521 - acc: 0.9667 - val_loss: 0.5271 - val_acc: 0.8000\n",
            "Epoch 89/100\n",
            "120/120 [==============================] - 0s 167us/step - loss: 0.1696 - acc: 0.9667 - val_loss: 1.6400 - val_acc: 0.1000\n",
            "Epoch 90/100\n",
            "120/120 [==============================] - 0s 165us/step - loss: 0.2054 - acc: 0.9250 - val_loss: 1.4079 - val_acc: 0.1667\n",
            "Epoch 91/100\n",
            "120/120 [==============================] - 0s 162us/step - loss: 0.1889 - acc: 0.9167 - val_loss: 0.9698 - val_acc: 0.3000\n",
            "Epoch 92/100\n",
            "120/120 [==============================] - 0s 180us/step - loss: 0.1638 - acc: 0.9500 - val_loss: 0.5353 - val_acc: 0.7000\n",
            "Epoch 93/100\n",
            "120/120 [==============================] - 0s 134us/step - loss: 0.1603 - acc: 0.9500 - val_loss: 1.7147 - val_acc: 0.0667\n",
            "Epoch 94/100\n",
            "120/120 [==============================] - 0s 161us/step - loss: 0.3351 - acc: 0.7917 - val_loss: 1.6380 - val_acc: 0.1333\n",
            "Epoch 95/100\n",
            "120/120 [==============================] - 0s 164us/step - loss: 0.2212 - acc: 0.8750 - val_loss: 0.9663 - val_acc: 0.3333\n",
            "Epoch 96/100\n",
            "120/120 [==============================] - 0s 148us/step - loss: 0.1472 - acc: 0.9333 - val_loss: 0.6447 - val_acc: 0.6667\n",
            "Epoch 97/100\n",
            "120/120 [==============================] - 0s 138us/step - loss: 0.1544 - acc: 0.9417 - val_loss: 0.2421 - val_acc: 1.0000\n",
            "Epoch 98/100\n",
            "120/120 [==============================] - 0s 156us/step - loss: 0.1553 - acc: 0.9250 - val_loss: 0.3440 - val_acc: 0.9333\n",
            "Epoch 99/100\n",
            "120/120 [==============================] - 0s 136us/step - loss: 0.1543 - acc: 0.9667 - val_loss: 0.7891 - val_acc: 0.5333\n",
            "Epoch 100/100\n",
            "120/120 [==============================] - 0s 187us/step - loss: 0.1377 - acc: 0.9667 - val_loss: 0.7380 - val_acc: 0.5667\n"
          ],
          "name": "stdout"
        },
        {
          "output_type": "execute_result",
          "data": {
            "text/plain": [
              "<keras.callbacks.History at 0x7f236902d3c8>"
            ]
          },
          "metadata": {
            "tags": []
          },
          "execution_count": 21
        }
      ]
    },
    {
      "cell_type": "code",
      "metadata": {
        "id": "r_pjb812dHzK",
        "colab_type": "code",
        "colab": {}
      },
      "source": [
        "  data = np.array([\n",
        "          [5.1, 3.4, 1.5, 0.2],\n",
        "          [5.9, 3.0, 5.1, 1.8]\n",
        "         ])"
      ],
      "execution_count": 0,
      "outputs": []
    },
    {
      "cell_type": "code",
      "metadata": {
        "id": "_uIUdWragMq8",
        "colab_type": "code",
        "colab": {}
      },
      "source": [
        "predicted = model.predict(data)"
      ],
      "execution_count": 0,
      "outputs": []
    },
    {
      "cell_type": "code",
      "metadata": {
        "id": "x6grN3jAgRfz",
        "colab_type": "code",
        "colab": {
          "base_uri": "https://localhost:8080/",
          "height": 54
        },
        "outputId": "452bee2a-8cfd-47ec-b6cf-4bd91104442d"
      },
      "source": [
        "np.round(predicted, 4)"
      ],
      "execution_count": 30,
      "outputs": [
        {
          "output_type": "execute_result",
          "data": {
            "text/plain": [
              "array([[0.9957, 0.0043, 0.    ],\n",
              "       [0.0179, 0.5165, 0.4656]], dtype=float32)"
            ]
          },
          "metadata": {
            "tags": []
          },
          "execution_count": 30
        }
      ]
    },
    {
      "cell_type": "code",
      "metadata": {
        "id": "QCMmevghgvM1",
        "colab_type": "code",
        "colab": {}
      },
      "source": [
        ""
      ],
      "execution_count": 0,
      "outputs": []
    }
  ]
}